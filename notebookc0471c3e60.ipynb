{
 "cells": [
  {
   "cell_type": "code",
   "execution_count": 1,
   "id": "1fb495e9",
   "metadata": {
    "execution": {
     "iopub.execute_input": "2024-11-21T21:12:22.004003Z",
     "iopub.status.busy": "2024-11-21T21:12:22.003557Z",
     "iopub.status.idle": "2024-11-21T21:12:24.887490Z",
     "shell.execute_reply": "2024-11-21T21:12:24.886514Z"
    },
    "papermill": {
     "duration": 2.892771,
     "end_time": "2024-11-21T21:12:24.889924",
     "exception": false,
     "start_time": "2024-11-21T21:12:21.997153",
     "status": "completed"
    },
    "tags": []
   },
   "outputs": [],
   "source": [
    "import warnings\n",
    "warnings.filterwarnings('ignore')\n",
    "\n",
    "import numpy as np\n",
    "import pandas as pd\n",
    "import matplotlib.pyplot as plt\n",
    "import seaborn as sns"
   ]
  },
  {
   "cell_type": "code",
   "execution_count": 2,
   "id": "d11abff3",
   "metadata": {
    "execution": {
     "iopub.execute_input": "2024-11-21T21:12:24.899901Z",
     "iopub.status.busy": "2024-11-21T21:12:24.899354Z",
     "iopub.status.idle": "2024-11-21T21:12:24.928176Z",
     "shell.execute_reply": "2024-11-21T21:12:24.926953Z"
    },
    "papermill": {
     "duration": 0.036325,
     "end_time": "2024-11-21T21:12:24.930525",
     "exception": false,
     "start_time": "2024-11-21T21:12:24.894200",
     "status": "completed"
    },
    "tags": []
   },
   "outputs": [],
   "source": [
    "data = pd.read_csv('/kaggle/input/diabetes-data-set/diabetes.csv')"
   ]
  },
  {
   "cell_type": "code",
   "execution_count": 3,
   "id": "21286cb7",
   "metadata": {
    "execution": {
     "iopub.execute_input": "2024-11-21T21:12:24.940407Z",
     "iopub.status.busy": "2024-11-21T21:12:24.939430Z",
     "iopub.status.idle": "2024-11-21T21:12:24.965498Z",
     "shell.execute_reply": "2024-11-21T21:12:24.964447Z"
    },
    "papermill": {
     "duration": 0.03331,
     "end_time": "2024-11-21T21:12:24.967771",
     "exception": false,
     "start_time": "2024-11-21T21:12:24.934461",
     "status": "completed"
    },
    "tags": []
   },
   "outputs": [
    {
     "data": {
      "text/html": [
       "<div>\n",
       "<style scoped>\n",
       "    .dataframe tbody tr th:only-of-type {\n",
       "        vertical-align: middle;\n",
       "    }\n",
       "\n",
       "    .dataframe tbody tr th {\n",
       "        vertical-align: top;\n",
       "    }\n",
       "\n",
       "    .dataframe thead th {\n",
       "        text-align: right;\n",
       "    }\n",
       "</style>\n",
       "<table border=\"1\" class=\"dataframe\">\n",
       "  <thead>\n",
       "    <tr style=\"text-align: right;\">\n",
       "      <th></th>\n",
       "      <th>Pregnancies</th>\n",
       "      <th>Glucose</th>\n",
       "      <th>BloodPressure</th>\n",
       "      <th>SkinThickness</th>\n",
       "      <th>Insulin</th>\n",
       "      <th>BMI</th>\n",
       "      <th>DiabetesPedigreeFunction</th>\n",
       "      <th>Age</th>\n",
       "      <th>Outcome</th>\n",
       "    </tr>\n",
       "  </thead>\n",
       "  <tbody>\n",
       "    <tr>\n",
       "      <th>0</th>\n",
       "      <td>6</td>\n",
       "      <td>148</td>\n",
       "      <td>72</td>\n",
       "      <td>35</td>\n",
       "      <td>0</td>\n",
       "      <td>33.6</td>\n",
       "      <td>0.627</td>\n",
       "      <td>50</td>\n",
       "      <td>1</td>\n",
       "    </tr>\n",
       "    <tr>\n",
       "      <th>1</th>\n",
       "      <td>1</td>\n",
       "      <td>85</td>\n",
       "      <td>66</td>\n",
       "      <td>29</td>\n",
       "      <td>0</td>\n",
       "      <td>26.6</td>\n",
       "      <td>0.351</td>\n",
       "      <td>31</td>\n",
       "      <td>0</td>\n",
       "    </tr>\n",
       "    <tr>\n",
       "      <th>2</th>\n",
       "      <td>8</td>\n",
       "      <td>183</td>\n",
       "      <td>64</td>\n",
       "      <td>0</td>\n",
       "      <td>0</td>\n",
       "      <td>23.3</td>\n",
       "      <td>0.672</td>\n",
       "      <td>32</td>\n",
       "      <td>1</td>\n",
       "    </tr>\n",
       "    <tr>\n",
       "      <th>3</th>\n",
       "      <td>1</td>\n",
       "      <td>89</td>\n",
       "      <td>66</td>\n",
       "      <td>23</td>\n",
       "      <td>94</td>\n",
       "      <td>28.1</td>\n",
       "      <td>0.167</td>\n",
       "      <td>21</td>\n",
       "      <td>0</td>\n",
       "    </tr>\n",
       "    <tr>\n",
       "      <th>4</th>\n",
       "      <td>0</td>\n",
       "      <td>137</td>\n",
       "      <td>40</td>\n",
       "      <td>35</td>\n",
       "      <td>168</td>\n",
       "      <td>43.1</td>\n",
       "      <td>2.288</td>\n",
       "      <td>33</td>\n",
       "      <td>1</td>\n",
       "    </tr>\n",
       "  </tbody>\n",
       "</table>\n",
       "</div>"
      ],
      "text/plain": [
       "   Pregnancies  Glucose  BloodPressure  SkinThickness  Insulin   BMI  \\\n",
       "0            6      148             72             35        0  33.6   \n",
       "1            1       85             66             29        0  26.6   \n",
       "2            8      183             64              0        0  23.3   \n",
       "3            1       89             66             23       94  28.1   \n",
       "4            0      137             40             35      168  43.1   \n",
       "\n",
       "   DiabetesPedigreeFunction  Age  Outcome  \n",
       "0                     0.627   50        1  \n",
       "1                     0.351   31        0  \n",
       "2                     0.672   32        1  \n",
       "3                     0.167   21        0  \n",
       "4                     2.288   33        1  "
      ]
     },
     "execution_count": 3,
     "metadata": {},
     "output_type": "execute_result"
    }
   ],
   "source": [
    "data.head()"
   ]
  },
  {
   "cell_type": "code",
   "execution_count": 4,
   "id": "e1390443",
   "metadata": {
    "execution": {
     "iopub.execute_input": "2024-11-21T21:12:24.978065Z",
     "iopub.status.busy": "2024-11-21T21:12:24.977595Z",
     "iopub.status.idle": "2024-11-21T21:12:25.009327Z",
     "shell.execute_reply": "2024-11-21T21:12:25.007933Z"
    },
    "papermill": {
     "duration": 0.040614,
     "end_time": "2024-11-21T21:12:25.012796",
     "exception": false,
     "start_time": "2024-11-21T21:12:24.972182",
     "status": "completed"
    },
    "tags": []
   },
   "outputs": [
    {
     "name": "stdout",
     "output_type": "stream",
     "text": [
      "<class 'pandas.core.frame.DataFrame'>\n",
      "RangeIndex: 768 entries, 0 to 767\n",
      "Data columns (total 9 columns):\n",
      " #   Column                    Non-Null Count  Dtype  \n",
      "---  ------                    --------------  -----  \n",
      " 0   Pregnancies               768 non-null    int64  \n",
      " 1   Glucose                   768 non-null    int64  \n",
      " 2   BloodPressure             768 non-null    int64  \n",
      " 3   SkinThickness             768 non-null    int64  \n",
      " 4   Insulin                   768 non-null    int64  \n",
      " 5   BMI                       768 non-null    float64\n",
      " 6   DiabetesPedigreeFunction  768 non-null    float64\n",
      " 7   Age                       768 non-null    int64  \n",
      " 8   Outcome                   768 non-null    int64  \n",
      "dtypes: float64(2), int64(7)\n",
      "memory usage: 54.1 KB\n"
     ]
    }
   ],
   "source": [
    "data.info()"
   ]
  },
  {
   "cell_type": "code",
   "execution_count": 5,
   "id": "62b1e3bf",
   "metadata": {
    "execution": {
     "iopub.execute_input": "2024-11-21T21:12:25.023835Z",
     "iopub.status.busy": "2024-11-21T21:12:25.023423Z",
     "iopub.status.idle": "2024-11-21T21:12:25.033055Z",
     "shell.execute_reply": "2024-11-21T21:12:25.031930Z"
    },
    "papermill": {
     "duration": 0.017509,
     "end_time": "2024-11-21T21:12:25.035337",
     "exception": false,
     "start_time": "2024-11-21T21:12:25.017828",
     "status": "completed"
    },
    "tags": []
   },
   "outputs": [
    {
     "data": {
      "text/plain": [
       "0"
      ]
     },
     "execution_count": 5,
     "metadata": {},
     "output_type": "execute_result"
    }
   ],
   "source": [
    "data.duplicated().sum()"
   ]
  },
  {
   "cell_type": "code",
   "execution_count": 6,
   "id": "335de328",
   "metadata": {
    "execution": {
     "iopub.execute_input": "2024-11-21T21:12:25.045762Z",
     "iopub.status.busy": "2024-11-21T21:12:25.045320Z",
     "iopub.status.idle": "2024-11-21T21:12:25.273781Z",
     "shell.execute_reply": "2024-11-21T21:12:25.272676Z"
    },
    "papermill": {
     "duration": 0.236486,
     "end_time": "2024-11-21T21:12:25.276247",
     "exception": false,
     "start_time": "2024-11-21T21:12:25.039761",
     "status": "completed"
    },
    "tags": []
   },
   "outputs": [
    {
     "data": {
      "image/png": "[encoded data removed]",
      "text/plain": [
       "<Figure size 640x480 with 1 Axes>"
      ]
     },
     "metadata": {},
     "output_type": "display_data"
    }
   ],
   "source": [
    "sns.countplot(x= 'Outcome' , data=data , palette=['b','r'])\n",
    "plt.show()"
   ]
  },
  {
   "cell_type": "code",
   "execution_count": 7,
   "id": "36f17956",
   "metadata": {
    "execution": {
     "iopub.execute_input": "2024-11-21T21:12:25.287176Z",
     "iopub.status.busy": "2024-11-21T21:12:25.286761Z",
     "iopub.status.idle": "2024-11-21T21:12:25.429642Z",
     "shell.execute_reply": "2024-11-21T21:12:25.428489Z"
    },
    "papermill": {
     "duration": 0.151013,
     "end_time": "2024-11-21T21:12:25.431913",
     "exception": false,
     "start_time": "2024-11-21T21:12:25.280900",
     "status": "completed"
    },
    "tags": []
   },
   "outputs": [
    {
     "data": {
      "image/png": "[encoded data removed]",
      "text/plain": [
       "<Figure size 640x480 with 1 Axes>"
      ]
     },
     "metadata": {},
     "output_type": "display_data"
    }
   ],
   "source": [
    "sns.boxplot(y = data['Pregnancies'])\n",
    "plt.show()"
   ]
  },
  {
   "cell_type": "code",
   "execution_count": 8,
   "id": "3b2e9870",
   "metadata": {
    "execution": {
     "iopub.execute_input": "2024-11-21T21:12:25.444211Z",
     "iopub.status.busy": "2024-11-21T21:12:25.443822Z",
     "iopub.status.idle": "2024-11-21T21:12:25.636496Z",
     "shell.execute_reply": "2024-11-21T21:12:25.635428Z"
    },
    "papermill": {
     "duration": 0.20099,
     "end_time": "2024-11-21T21:12:25.638782",
     "exception": false,
     "start_time": "2024-11-21T21:12:25.437792",
     "status": "completed"
    },
    "tags": []
   },
   "outputs": [
    {
     "data": {
      "image/png": "[encoded data removed]",
      "text/plain": [
       "<Figure size 640x480 with 1 Axes>"
      ]
     },
     "metadata": {},
     "output_type": "display_data"
    }
   ],
   "source": [
    "sns.boxplot(y = data['Age'])\n",
    "plt.show()"
   ]
  },
  {
   "cell_type": "code",
   "execution_count": 9,
   "id": "937a3573",
   "metadata": {
    "execution": {
     "iopub.execute_input": "2024-11-21T21:12:25.651042Z",
     "iopub.status.busy": "2024-11-21T21:12:25.650553Z",
     "iopub.status.idle": "2024-11-21T21:12:25.685061Z",
     "shell.execute_reply": "2024-11-21T21:12:25.683834Z"
    },
    "papermill": {
     "duration": 0.043302,
     "end_time": "2024-11-21T21:12:25.687500",
     "exception": false,
     "start_time": "2024-11-21T21:12:25.644198",
     "status": "completed"
    },
    "tags": []
   },
   "outputs": [
    {
     "data": {
      "text/html": [
       "<div>\n",
       "<style scoped>\n",
       "    .dataframe tbody tr th:only-of-type {\n",
       "        vertical-align: middle;\n",
       "    }\n",
       "\n",
       "    .dataframe tbody tr th {\n",
       "        vertical-align: top;\n",
       "    }\n",
       "\n",
       "    .dataframe thead th {\n",
       "        text-align: right;\n",
       "    }\n",
       "</style>\n",
       "<table border=\"1\" class=\"dataframe\">\n",
       "  <thead>\n",
       "    <tr style=\"text-align: right;\">\n",
       "      <th></th>\n",
       "      <th>Pregnancies</th>\n",
       "      <th>Glucose</th>\n",
       "      <th>BloodPressure</th>\n",
       "      <th>SkinThickness</th>\n",
       "      <th>Insulin</th>\n",
       "      <th>BMI</th>\n",
       "      <th>DiabetesPedigreeFunction</th>\n",
       "      <th>Age</th>\n",
       "      <th>Outcome</th>\n",
       "    </tr>\n",
       "  </thead>\n",
       "  <tbody>\n",
       "    <tr>\n",
       "      <th>count</th>\n",
       "      <td>768.000000</td>\n",
       "      <td>768.000000</td>\n",
       "      <td>768.000000</td>\n",
       "      <td>768.000000</td>\n",
       "      <td>768.000000</td>\n",
       "      <td>768.000000</td>\n",
       "      <td>768.000000</td>\n",
       "      <td>768.000000</td>\n",
       "      <td>768.000000</td>\n",
       "    </tr>\n",
       "    <tr>\n",
       "      <th>mean</th>\n",
       "      <td>3.845052</td>\n",
       "      <td>120.894531</td>\n",
       "      <td>69.105469</td>\n",
       "      <td>20.536458</td>\n",
       "      <td>79.799479</td>\n",
       "      <td>31.992578</td>\n",
       "      <td>0.471876</td>\n",
       "      <td>33.240885</td>\n",
       "      <td>0.348958</td>\n",
       "    </tr>\n",
       "    <tr>\n",
       "      <th>std</th>\n",
       "      <td>3.369578</td>\n",
       "      <td>31.972618</td>\n",
       "      <td>19.355807</td>\n",
       "      <td>15.952218</td>\n",
       "      <td>115.244002</td>\n",
       "      <td>7.884160</td>\n",
       "      <td>0.331329</td>\n",
       "      <td>11.760232</td>\n",
       "      <td>0.476951</td>\n",
       "    </tr>\n",
       "    <tr>\n",
       "      <th>min</th>\n",
       "      <td>0.000000</td>\n",
       "      <td>0.000000</td>\n",
       "      <td>0.000000</td>\n",
       "      <td>0.000000</td>\n",
       "      <td>0.000000</td>\n",
       "      <td>0.000000</td>\n",
       "      <td>0.078000</td>\n",
       "      <td>21.000000</td>\n",
       "      <td>0.000000</td>\n",
       "    </tr>\n",
       "    <tr>\n",
       "      <th>25%</th>\n",
       "      <td>1.000000</td>\n",
       "      <td>99.000000</td>\n",
       "      <td>62.000000</td>\n",
       "      <td>0.000000</td>\n",
       "      <td>0.000000</td>\n",
       "      <td>27.300000</td>\n",
       "      <td>0.243750</td>\n",
       "      <td>24.000000</td>\n",
       "      <td>0.000000</td>\n",
       "    </tr>\n",
       "    <tr>\n",
       "      <th>50%</th>\n",
       "      <td>3.000000</td>\n",
       "      <td>117.000000</td>\n",
       "      <td>72.000000</td>\n",
       "      <td>23.000000</td>\n",
       "      <td>30.500000</td>\n",
       "      <td>32.000000</td>\n",
       "      <td>0.372500</td>\n",
       "      <td>29.000000</td>\n",
       "      <td>0.000000</td>\n",
       "    </tr>\n",
       "    <tr>\n",
       "      <th>75%</th>\n",
       "      <td>6.000000</td>\n",
       "      <td>140.250000</td>\n",
       "      <td>80.000000</td>\n",
       "      <td>32.000000</td>\n",
       "      <td>127.250000</td>\n",
       "      <td>36.600000</td>\n",
       "      <td>0.626250</td>\n",
       "      <td>41.000000</td>\n",
       "      <td>1.000000</td>\n",
       "    </tr>\n",
       "    <tr>\n",
       "      <th>max</th>\n",
       "      <td>17.000000</td>\n",
       "      <td>199.000000</td>\n",
       "      <td>122.000000</td>\n",
       "      <td>99.000000</td>\n",
       "      <td>846.000000</td>\n",
       "      <td>67.100000</td>\n",
       "      <td>2.420000</td>\n",
       "      <td>81.000000</td>\n",
       "      <td>1.000000</td>\n",
       "    </tr>\n",
       "  </tbody>\n",
       "</table>\n",
       "</div>"
      ],
      "text/plain": [
       "       Pregnancies     Glucose  BloodPressure  SkinThickness     Insulin  \\\n",
       "count   768.000000  768.000000     768.000000     768.000000  768.000000   \n",
       "mean      3.845052  120.894531      69.105469      20.536458   79.799479   \n",
       "std       3.369578   31.972618      19.355807      15.952218  115.244002   \n",
       "min       0.000000    0.000000       0.000000       0.000000    0.000000   \n",
       "25%       1.000000   99.000000      62.000000       0.000000    0.000000   \n",
       "50%       3.000000  117.000000      72.000000      23.000000   30.500000   \n",
       "75%       6.000000  140.250000      80.000000      32.000000  127.250000   \n",
       "max      17.000000  199.000000     122.000000      99.000000  846.000000   \n",
       "\n",
       "              BMI  DiabetesPedigreeFunction         Age     Outcome  \n",
       "count  768.000000                768.000000  768.000000  768.000000  \n",
       "mean    31.992578                  0.471876   33.240885    0.348958  \n",
       "std      7.884160                  0.331329   11.760232    0.476951  \n",
       "min      0.000000                  0.078000   21.000000    0.000000  \n",
       "25%     27.300000                  0.243750   24.000000    0.000000  \n",
       "50%     32.000000                  0.372500   29.000000    0.000000  \n",
       "75%     36.600000                  0.626250   41.000000    1.000000  \n",
       "max     67.100000                  2.420000   81.000000    1.000000  "
      ]
     },
     "execution_count": 9,
     "metadata": {},
     "output_type": "execute_result"
    }
   ],
   "source": [
    "data.describe()"
   ]
  },
  {
   "cell_type": "code",
   "execution_count": 10,
   "id": "654aeb9b",
   "metadata": {
    "execution": {
     "iopub.execute_input": "2024-11-21T21:12:25.700515Z",
     "iopub.status.busy": "2024-11-21T21:12:25.699538Z",
     "iopub.status.idle": "2024-11-21T21:12:26.180682Z",
     "shell.execute_reply": "2024-11-21T21:12:26.179245Z"
    },
    "papermill": {
     "duration": 0.490881,
     "end_time": "2024-11-21T21:12:26.183817",
     "exception": false,
     "start_time": "2024-11-21T21:12:25.692936",
     "status": "completed"
    },
    "tags": []
   },
   "outputs": [
    {
     "data": {
      "image/png": "[encoded data removed]",
      "text/plain": [
       "<Figure size 1000x800 with 2 Axes>"
      ]
     },
     "metadata": {},
     "output_type": "display_data"
    }
   ],
   "source": [
    "plt.figure(figsize = (10,8))\n",
    "sns.heatmap(data.corr(),annot=True, fmt=\".2f\", square=True, linewidths=.5)\n",
    "plt.show()"
   ]
  },
  {
   "cell_type": "code",
   "execution_count": 11,
   "id": "b34fcccd",
   "metadata": {
    "execution": {
     "iopub.execute_input": "2024-11-21T21:12:26.199629Z",
     "iopub.status.busy": "2024-11-21T21:12:26.199222Z",
     "iopub.status.idle": "2024-11-21T21:12:26.205483Z",
     "shell.execute_reply": "2024-11-21T21:12:26.204388Z"
    },
    "papermill": {
     "duration": 0.01691,
     "end_time": "2024-11-21T21:12:26.207722",
     "exception": false,
     "start_time": "2024-11-21T21:12:26.190812",
     "status": "completed"
    },
    "tags": []
   },
   "outputs": [],
   "source": [
    "feature = data.drop('Outcome' , axis=1)\n",
    "target = data['Outcome']"
   ]
  },
  {
   "cell_type": "code",
   "execution_count": 12,
   "id": "f44af8d9",
   "metadata": {
    "execution": {
     "iopub.execute_input": "2024-11-21T21:12:26.223389Z",
     "iopub.status.busy": "2024-11-21T21:12:26.223033Z",
     "iopub.status.idle": "2024-11-21T21:12:26.545944Z",
     "shell.execute_reply": "2024-11-21T21:12:26.545036Z"
    },
    "papermill": {
     "duration": 0.333386,
     "end_time": "2024-11-21T21:12:26.548355",
     "exception": false,
     "start_time": "2024-11-21T21:12:26.214969",
     "status": "completed"
    },
    "tags": []
   },
   "outputs": [],
   "source": [
    "from sklearn.model_selection import train_test_split\n",
    "x_train , x_test , y_train , y_test = train_test_split(feature , target , test_size=0.2 , random_state=42)"
   ]
  },
  {
   "cell_type": "code",
   "execution_count": 13,
   "id": "c86008dd",
   "metadata": {
    "execution": {
     "iopub.execute_input": "2024-11-21T21:12:26.563310Z",
     "iopub.status.busy": "2024-11-21T21:12:26.562932Z",
     "iopub.status.idle": "2024-11-21T21:12:26.728753Z",
     "shell.execute_reply": "2024-11-21T21:12:26.727398Z"
    },
    "papermill": {
     "duration": 0.176056,
     "end_time": "2024-11-21T21:12:26.731122",
     "exception": false,
     "start_time": "2024-11-21T21:12:26.555066",
     "status": "completed"
    },
    "tags": []
   },
   "outputs": [
    {
     "name": "stdout",
     "output_type": "stream",
     "text": [
      "              precision    recall  f1-score   support\n",
      "\n",
      "           0       0.79      0.81      0.80        96\n",
      "           1       0.67      0.64      0.65        58\n",
      "\n",
      "    accuracy                           0.75       154\n",
      "   macro avg       0.73      0.73      0.73       154\n",
      "weighted avg       0.74      0.75      0.75       154\n",
      "\n",
      "74.7 %\n"
     ]
    }
   ],
   "source": [
    "from sklearn.linear_model import LogisticRegression\n",
    "model_1 = LogisticRegression()\n",
    "model_1.fit(x_train , y_train)\n",
    "m1_predicted = model_1.predict(x_test)\n",
    "from sklearn.metrics import  classification_report\n",
    "print(classification_report(m1_predicted , y_test))\n",
    "\n",
    "from sklearn.metrics import  accuracy_score\n",
    "acc = accuracy_score(m1_predicted , y_test) * 100\n",
    "acc = round(acc,1)\n",
    "print(acc,'%')"
   ]
  },
  {
   "cell_type": "code",
   "execution_count": 14,
   "id": "c4f2361e",
   "metadata": {
    "execution": {
     "iopub.execute_input": "2024-11-21T21:12:26.746456Z",
     "iopub.status.busy": "2024-11-21T21:12:26.746093Z",
     "iopub.status.idle": "2024-11-21T21:12:26.887191Z",
     "shell.execute_reply": "2024-11-21T21:12:26.886076Z"
    },
    "papermill": {
     "duration": 0.151557,
     "end_time": "2024-11-21T21:12:26.889605",
     "exception": false,
     "start_time": "2024-11-21T21:12:26.738048",
     "status": "completed"
    },
    "tags": []
   },
   "outputs": [
    {
     "name": "stdout",
     "output_type": "stream",
     "text": [
      "              precision    recall  f1-score   support\n",
      "\n",
      "           0       0.75      0.82      0.78        90\n",
      "           1       0.71      0.61      0.66        64\n",
      "\n",
      "    accuracy                           0.73       154\n",
      "   macro avg       0.73      0.72      0.72       154\n",
      "weighted avg       0.73      0.73      0.73       154\n",
      "\n",
      "accuracy score: 73.4 %\n"
     ]
    }
   ],
   "source": [
    "from sklearn.tree import DecisionTreeClassifier\n",
    "model_2 = DecisionTreeClassifier()\n",
    "model_2.fit(x_train , y_train)\n",
    "m2_predicted = model_2.predict(x_test)\n",
    "from sklearn.metrics import  classification_report\n",
    "print(classification_report(m2_predicted , y_test))\n",
    "\n",
    "from sklearn.metrics import  accuracy_score\n",
    "acc = accuracy_score(m2_predicted , y_test) * 100\n",
    "acc = round(acc,1)\n",
    "print('accuracy score:',acc,'%')"
   ]
  },
  {
   "cell_type": "code",
   "execution_count": 15,
   "id": "76500f65",
   "metadata": {
    "execution": {
     "iopub.execute_input": "2024-11-21T21:12:26.905431Z",
     "iopub.status.busy": "2024-11-21T21:12:26.905053Z",
     "iopub.status.idle": "2024-11-21T21:12:27.228774Z",
     "shell.execute_reply": "2024-11-21T21:12:27.227475Z"
    },
    "papermill": {
     "duration": 0.334573,
     "end_time": "2024-11-21T21:12:27.231229",
     "exception": false,
     "start_time": "2024-11-21T21:12:26.896656",
     "status": "completed"
    },
    "tags": []
   },
   "outputs": [
    {
     "name": "stdout",
     "output_type": "stream",
     "text": [
      "              precision    recall  f1-score   support\n",
      "\n",
      "           0       0.77      0.80      0.78        95\n",
      "           1       0.65      0.61      0.63        59\n",
      "\n",
      "    accuracy                           0.73       154\n",
      "   macro avg       0.71      0.71      0.71       154\n",
      "weighted avg       0.72      0.73      0.73       154\n",
      "\n",
      "72.7 %\n"
     ]
    }
   ],
   "source": [
    "from sklearn.ensemble import RandomForestClassifier\n",
    "model_3 = RandomForestClassifier()\n",
    "model_3.fit(x_train , y_train)\n",
    "m3_predicted = model_3.predict(x_test)\n",
    "from sklearn.metrics import  classification_report\n",
    "print(classification_report(m3_predicted , y_test))\n",
    "\n",
    "from sklearn.metrics import  accuracy_score\n",
    "acc = accuracy_score(m3_predicted , y_test) * 100\n",
    "acc = round(acc,1)\n",
    "print(acc,'%')"
   ]
  },
  {
   "cell_type": "code",
   "execution_count": 16,
   "id": "79d35ef4",
   "metadata": {
    "execution": {
     "iopub.execute_input": "2024-11-21T21:12:27.248235Z",
     "iopub.status.busy": "2024-11-21T21:12:27.247825Z",
     "iopub.status.idle": "2024-11-21T21:12:27.280625Z",
     "shell.execute_reply": "2024-11-21T21:12:27.279348Z"
    },
    "papermill": {
     "duration": 0.043994,
     "end_time": "2024-11-21T21:12:27.282803",
     "exception": false,
     "start_time": "2024-11-21T21:12:27.238809",
     "status": "completed"
    },
    "tags": []
   },
   "outputs": [
    {
     "name": "stdout",
     "output_type": "stream",
     "text": [
      "              precision    recall  f1-score   support\n",
      "\n",
      "           0       0.88      0.78      0.83       111\n",
      "           1       0.56      0.72      0.63        43\n",
      "\n",
      "    accuracy                           0.77       154\n",
      "   macro avg       0.72      0.75      0.73       154\n",
      "weighted avg       0.79      0.77      0.77       154\n",
      "\n",
      "76.6 %\n"
     ]
    }
   ],
   "source": [
    "from sklearn.svm import SVC\n",
    "model_4 = SVC()\n",
    "model_4.fit(x_train , y_train)\n",
    "m4_predicted = model_4.predict(x_test)\n",
    "from sklearn.metrics import  classification_report\n",
    "print(classification_report(m4_predicted , y_test))\n",
    "\n",
    "from sklearn.metrics import  accuracy_score\n",
    "acc = accuracy_score(m4_predicted , y_test) * 100\n",
    "acc = round(acc,1)\n",
    "print(acc,'%')"
   ]
  },
  {
   "cell_type": "code",
   "execution_count": 17,
   "id": "9e08a708",
   "metadata": {
    "execution": {
     "iopub.execute_input": "2024-11-21T21:12:27.298551Z",
     "iopub.status.busy": "2024-11-21T21:12:27.298163Z",
     "iopub.status.idle": "2024-11-21T21:12:27.333076Z",
     "shell.execute_reply": "2024-11-21T21:12:27.330756Z"
    },
    "papermill": {
     "duration": 0.045879,
     "end_time": "2024-11-21T21:12:27.335677",
     "exception": false,
     "start_time": "2024-11-21T21:12:27.289798",
     "status": "completed"
    },
    "tags": []
   },
   "outputs": [
    {
     "name": "stdout",
     "output_type": "stream",
     "text": [
      "              precision    recall  f1-score   support\n",
      "\n",
      "           0       0.88      0.78      0.83       111\n",
      "           1       0.56      0.72      0.63        43\n",
      "\n",
      "    accuracy                           0.77       154\n",
      "   macro avg       0.72      0.75      0.73       154\n",
      "weighted avg       0.79      0.77      0.77       154\n",
      "\n",
      "76.6 %\n"
     ]
    }
   ],
   "source": [
    "from sklearn.ensemble import GradientBoostingClassifier\n",
    "model_5 = SVC()\n",
    "model_5.fit(x_train , y_train)\n",
    "m5_predicted = model_5.predict(x_test)\n",
    "from sklearn.metrics import  classification_report\n",
    "print(classification_report(m5_predicted , y_test))\n",
    "\n",
    "from sklearn.metrics import  accuracy_score\n",
    "acc = accuracy_score(m5_predicted , y_test) * 100\n",
    "acc = round(acc,1)\n",
    "print(acc,'%')"
   ]
  }
 ],
 "metadata": {
  "kaggle": {
   "accelerator": "none",
   "dataSources": [
    {
     "datasetId": 818300,
     "sourceId": 1400440,
     "sourceType": "datasetVersion"
    }
   ],
   "dockerImageVersionId": 30786,
   "isGpuEnabled": false,
   "isInternetEnabled": true,
   "language": "python",
   "sourceType": "notebook"
  },
  "kernelspec": {
   "display_name": "Python 3",
   "language": "python",
   "name": "python3"
  },
  "language_info": {
   "codemirror_mode": {
    "name": "ipython",
    "version": 3
   },
   "file_extension": ".py",
   "mimetype": "text/x-python",
   "name": "python",
   "nbconvert_exporter": "python",
   "pygments_lexer": "ipython3",
   "version": "3.10.14"
  },
  "papermill": {
   "default_parameters": {},
   "duration": 8.922769,
   "end_time": "2024-11-21T21:12:28.069100",
   "environment_variables": {},
   "exception": null,
   "input_path": "__notebook__.ipynb",
   "output_path": "__notebook__.ipynb",
   "parameters": {},
   "start_time": "2024-11-21T21:12:19.146331",
   "version": "2.6.0"
  }
 },
 "nbformat": 4,
 "nbformat_minor": 5
}
